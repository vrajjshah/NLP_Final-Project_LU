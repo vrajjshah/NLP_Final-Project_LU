{
  "nbformat": 4,
  "nbformat_minor": 0,
  "metadata": {
    "colab": {
      "name": "NLP PROJECT",
      "provenance": [],
      "machine_shape": "hm"
    },
    "kernelspec": {
      "name": "python3",
      "display_name": "Python 3"
    },
    "accelerator": "GPU"
  },
  "cells": [
    {
      "cell_type": "code",
      "metadata": {
        "id": "2QbZUj67qIqG",
        "colab_type": "code",
        "colab": {}
      },
      "source": [
        "#Importing various Libraries\n",
        "%tensorflow_version 1.x\n",
        "import logging\n",
        "import pandas as pd\n",
        "import numpy as np\n",
        "from numpy import random\n",
        "import gensim\n",
        "import nltk\n",
        "from sklearn.model_selection import train_test_split\n",
        "from sklearn.feature_extraction.text import CountVectorizer, TfidfVectorizer\n",
        "from sklearn.metrics import accuracy_score, confusion_matrix\n",
        "import matplotlib.pyplot as plt\n",
        "from nltk.corpus import stopwords\n",
        "import re\n",
        "from bs4 import BeautifulSoup\n",
        "%matplotlib inline\n",
        "import tensorflow as tf\n",
        "tf.logging.set_verbosity(tf.logging.ERROR)"
      ],
      "execution_count": 0,
      "outputs": []
    },
    {
      "cell_type": "code",
      "metadata": {
        "id": "_eHXxGzIqVba",
        "colab_type": "code",
        "outputId": "b157a120-e9e2-4afa-f7f5-ea6ff4f6e1b2",
        "colab": {
          "base_uri": "https://localhost:8080/",
          "height": 218
        }
      },
      "source": [
        "#Import dataset by using pandas dataframe and then printing first 10 rows of it\n",
        "df =  pd.read_csv('https://storage.googleapis.com/tensorflow-workshop-examples/stack-overflow-data.csv')\n",
        "df = df[pd.notnull(df['tags'])]\n",
        "print(df.head(10))\n",
        "print(df['post'].apply(lambda x: len(x.split(' '))).sum())"
      ],
      "execution_count": 35,
      "outputs": [
        {
          "output_type": "stream",
          "text": [
            "                                                post           tags\n",
            "0  what is causing this behavior  in our c# datet...             c#\n",
            "1  have dynamic html load as if it was in an ifra...        asp.net\n",
            "2  how to convert a float value in to min:sec  i ...    objective-c\n",
            "3  .net framework 4 redistributable  just wonderi...           .net\n",
            "4  trying to calculate and print the mean and its...         python\n",
            "5  how to give alias name for my website  i have ...        asp.net\n",
            "6  window.open() returns null in angularjs  it wo...      angularjs\n",
            "7  identifying server timeout quickly in iphone  ...         iphone\n",
            "8  unknown method key  error in rails 2.3.8 unit ...  ruby-on-rails\n",
            "9  from the include  how to show and hide the con...      angularjs\n",
            "10286120\n"
          ],
          "name": "stdout"
        }
      ]
    },
    {
      "cell_type": "code",
      "metadata": {
        "id": "O8jIAVAvq1Os",
        "colab_type": "code",
        "outputId": "86365ccc-358b-463c-90b9-e5ff3b35e073",
        "colab": {
          "base_uri": "https://localhost:8080/",
          "height": 319
        }
      },
      "source": [
        "#Plotting the Classes(X-axis) and their no. of occurences(y-axis) in the dataset\n",
        "my_tags = ['java','html','asp.net','c#','ruby-on-rails','jquery','mysql','php','ios','javascript','python','c','css','android','iphone','sql','objective-c','c++','angularjs','.net']\n",
        "plt.figure(figsize=(10,4))\n",
        "df.tags.value_counts().plot(kind='bar');"
      ],
      "execution_count": 36,
      "outputs": [
        {
          "output_type": "display_data",
          "data": {
            "image/png": "[encoded data removed]",
            "text/plain": [
              "<Figure size 720x288 with 1 Axes>"
            ]
          },
          "metadata": {
            "tags": []
          }
        }
      ]
    },
    {
      "cell_type": "code",
      "metadata": {
        "id": "48WmDsfYq6ix",
        "colab_type": "code",
        "outputId": "4ac8f621-dc31-4323-ab1a-344e16f46bde",
        "colab": {
          "base_uri": "https://localhost:8080/",
          "height": 70
        }
      },
      "source": [
        "#Printing the question(posts)-tags pairs\n",
        "def print_plot(index):\n",
        "    example = df[df.index == index][['post', 'tags']].values[0]\n",
        "    if len(example) > 0:\n",
        "        print(example[0])\n",
        "        print('Tag:', example[1])\n",
        "\n",
        "print_plot(30)"
      ],
      "execution_count": 37,
      "outputs": [
        {
          "output_type": "stream",
          "text": [
            "how to chain expressions inside ngclass when using the {...}[] form  how can i add another expression to an <code>ng-class</code> directive that uses this form:   <pre><code>ng-class= {true: loading   false: loading-done }[data.loader===null]  </code></pre>   i d like to add something like this to the list:   <pre><code>{highlight:isspecial} </code></pre>   is it possible without expanding the first expression     thanks.\n",
            "Tag: angularjs\n"
          ],
          "name": "stdout"
        }
      ]
    },
    {
      "cell_type": "code",
      "metadata": {
        "id": "ZQB69qxXrNpJ",
        "colab_type": "code",
        "outputId": "87d238d8-a3f7-470e-d7f3-608cfce18a3b",
        "colab": {
          "base_uri": "https://localhost:8080/",
          "height": 104
        }
      },
      "source": [
        "#text pre-processing\n",
        "nltk.download('stopwords')\n",
        "STOPWORDS = nltk.corpus.stopwords.words('english')\n",
        "REPLACE_BY_SPACE_RE = re.compile('[/(){}\\[\\]\\|@,;]')\n",
        "BAD_SYMBOLS_RE = re.compile('[^0-9a-z #+_]')\n",
        "\n",
        "def clean_text(text):\n",
        "    text = BeautifulSoup(text, \"lxml\").text # HTML decoding\n",
        "    text = text.lower() # lowercase text\n",
        "    text = REPLACE_BY_SPACE_RE.sub(' ', text) # replace REPLACE_BY_SPACE_RE symbols by space in text\n",
        "    text = BAD_SYMBOLS_RE.sub('', text) # delete symbols which are in BAD_SYMBOLS_RE from text\n",
        "    text = ' '.join(word for word in text.split() if word not in STOPWORDS) # delete stopwors from text\n",
        "    return text\n",
        "    \n",
        "df['post'] = df['post'].apply(clean_text)\n",
        "print_plot(10)"
      ],
      "execution_count": 38,
      "outputs": [
        {
          "output_type": "stream",
          "text": [
            "[nltk_data] Downloading package stopwords to /root/nltk_data...\n",
            "[nltk_data]   Package stopwords is already up-to-date!\n",
            "need interface c# possible duplicate would want use interfaces need interface want know use example interface idemo function prototype public void show first class using interface class myclass1 idemo public void show function body comes responsewrite myclass second class using interface class myclass2 idemo public void show function body comes responsewrite myclass2 responsewrite two classes function name different body even achieved without interface need interface use\n",
            "Tag: c#\n"
          ],
          "name": "stdout"
        }
      ]
    },
    {
      "cell_type": "code",
      "metadata": {
        "id": "dwH_2MezJ3ll",
        "colab_type": "code",
        "outputId": "d5cd4e71-46fa-47b5-b34a-77ab2c41e96f",
        "colab": {
          "base_uri": "https://localhost:8080/",
          "height": 34
        }
      },
      "source": [
        "#Ccounting number of words in our dataset after cleaning\n",
        "df['post'].apply(lambda x: len(x.split(' '))).sum()"
      ],
      "execution_count": 39,
      "outputs": [
        {
          "output_type": "execute_result",
          "data": {
            "text/plain": [
              "3424297"
            ]
          },
          "metadata": {
            "tags": []
          },
          "execution_count": 39
        }
      ]
    },
    {
      "cell_type": "code",
      "metadata": {
        "id": "2pki07czKH83",
        "colab_type": "code",
        "colab": {}
      },
      "source": [
        "#splitting the dataset into training and testing\n",
        "X = df.post\n",
        "y = df.tags\n",
        "X_train, X_test, y_train, y_test = train_test_split(X, y, test_size=0.3, random_state = 2003)"
      ],
      "execution_count": 0,
      "outputs": []
    },
    {
      "cell_type": "code",
      "metadata": {
        "id": "BmzUZrU_sT77",
        "colab_type": "code",
        "colab": {}
      },
      "source": [
        "#Defining functions for evaluation metrics\n",
        "def recall_m(y_true, y_pred):\n",
        "  true_positives= K.sum(K.round(K.clip(y_true * y_pred, 0, 1)))\n",
        "  possible_positives= K.sum(K.round(K.clip(y_true, 0, 1)))\n",
        "  recall= true_positives / (possible_positives + K.epsilon())\n",
        "  return recall\n",
        "\n",
        "def precision_m(y_true, y_pred):\n",
        "  true_positives= K.sum(K.round(K.clip(y_true * y_pred, 0, 1)))\n",
        "  predicted_positives= K.sum(K.round(K.clip(y_true, 0, 1)))\n",
        "  precision= true_positives / (predicted_positives + K.epsilon())\n",
        "  return precision\n",
        "\n",
        "def f1_m(y_true, y_pred):\n",
        "  precision= precision_m(y_true, y_pred)\n",
        "  recall= recall_m(y_true, y_pred)\n",
        "  return 2*((precision*recall)/(precision+recall+K.epsilon()))"
      ],
      "execution_count": 0,
      "outputs": []
    },
    {
      "cell_type": "markdown",
      "metadata": {
        "id": "JMpKUyCZKQMp",
        "colab_type": "text"
      },
      "source": [
        "Naiive Bayes Classifier"
      ]
    },
    {
      "cell_type": "code",
      "metadata": {
        "id": "2_XIE7A6KJGb",
        "colab_type": "code",
        "outputId": "a92bfc96-fc13-49d3-da1f-51196c5e503c",
        "colab": {
          "base_uri": "https://localhost:8080/",
          "height": 487
        }
      },
      "source": [
        "from sklearn.naive_bayes import MultinomialNB\n",
        "from sklearn.pipeline import Pipeline\n",
        "from sklearn.feature_extraction.text import TfidfTransformer\n",
        "\n",
        "nb = Pipeline([('vect', CountVectorizer()),\n",
        "               ('tfidf', TfidfTransformer()),\n",
        "               ('clf', MultinomialNB()),\n",
        "              ])\n",
        "nb.fit(X_train, y_train)\n",
        "\n",
        "from sklearn.metrics import classification_report\n",
        "y_pred = nb.predict(X_test)\n",
        "\n",
        "print('accuracy %s' % accuracy_score(y_pred, y_test))\n",
        "print(classification_report(y_test, y_pred,target_names=my_tags))"
      ],
      "execution_count": 42,
      "outputs": [
        {
          "output_type": "stream",
          "text": [
            "accuracy 0.7455\n",
            "               precision    recall  f1-score   support\n",
            "\n",
            "         java       0.58      0.64      0.61       597\n",
            "         html       0.90      0.87      0.89       572\n",
            "      asp.net       0.92      0.91      0.91       626\n",
            "           c#       0.74      0.72      0.73       624\n",
            "ruby-on-rails       0.71      0.87      0.78       589\n",
            "       jquery       0.76      0.48      0.59       618\n",
            "        mysql       0.78      0.73      0.75       608\n",
            "          php       0.72      0.88      0.79       601\n",
            "          ios       0.59      0.69      0.64       576\n",
            "   javascript       0.64      0.63      0.64       618\n",
            "       python       0.64      0.60      0.62       575\n",
            "            c       0.78      0.79      0.79       595\n",
            "          css       0.83      0.60      0.70       604\n",
            "      android       0.72      0.81      0.76       585\n",
            "       iphone       0.65      0.82      0.73       604\n",
            "          sql       0.69      0.62      0.66       596\n",
            "  objective-c       0.83      0.77      0.80       601\n",
            "          c++       0.84      0.87      0.86       578\n",
            "    angularjs       0.91      0.93      0.92       616\n",
            "         .net       0.77      0.66      0.71       617\n",
            "\n",
            "     accuracy                           0.75     12000\n",
            "    macro avg       0.75      0.75      0.74     12000\n",
            " weighted avg       0.75      0.75      0.74     12000\n",
            "\n"
          ],
          "name": "stdout"
        }
      ]
    },
    {
      "cell_type": "markdown",
      "metadata": {
        "id": "p5WlERLeKdcx",
        "colab_type": "text"
      },
      "source": [
        "Linear Support Vector Machines"
      ]
    },
    {
      "cell_type": "code",
      "metadata": {
        "id": "Dt26-Q59Kg9e",
        "colab_type": "code",
        "outputId": "7511bfc5-ace4-42dd-c9dc-6a75bf5cfe9e",
        "colab": {
          "base_uri": "https://localhost:8080/",
          "height": 487
        }
      },
      "source": [
        "from sklearn.linear_model import SGDClassifier\n",
        "\n",
        "sgd = Pipeline([('vect', CountVectorizer()),\n",
        "                ('tfidf', TfidfTransformer()),\n",
        "                ('clf', SGDClassifier(loss='hinge', penalty='l2',alpha=1e-3, random_state=42, max_iter=5, tol=None)),\n",
        "               ])\n",
        "sgd.fit(X_train, y_train)\n",
        "\n",
        "y_pred = sgd.predict(X_test)\n",
        "\n",
        "print('accuracy %s' % accuracy_score(y_pred, y_test))\n",
        "print(classification_report(y_test, y_pred,target_names=my_tags))"
      ],
      "execution_count": 43,
      "outputs": [
        {
          "output_type": "stream",
          "text": [
            "accuracy 0.7815\n",
            "               precision    recall  f1-score   support\n",
            "\n",
            "         java       0.73      0.68      0.70       597\n",
            "         html       0.83      0.93      0.88       572\n",
            "      asp.net       0.90      0.95      0.93       626\n",
            "           c#       0.79      0.77      0.78       624\n",
            "ruby-on-rails       0.71      0.87      0.78       589\n",
            "       jquery       0.78      0.34      0.48       618\n",
            "        mysql       0.83      0.67      0.74       608\n",
            "          php       0.73      0.93      0.82       601\n",
            "          ios       0.77      0.56      0.65       576\n",
            "   javascript       0.74      0.57      0.64       618\n",
            "       python       0.70      0.66      0.68       575\n",
            "            c       0.78      0.85      0.81       595\n",
            "          css       0.77      0.78      0.78       604\n",
            "      android       0.81      0.87      0.84       585\n",
            "       iphone       0.81      0.81      0.81       604\n",
            "          sql       0.69      0.69      0.69       596\n",
            "  objective-c       0.80      0.89      0.84       601\n",
            "          c++       0.80      0.97      0.88       578\n",
            "    angularjs       0.84      0.96      0.89       616\n",
            "         .net       0.80      0.87      0.83       617\n",
            "\n",
            "     accuracy                           0.78     12000\n",
            "    macro avg       0.78      0.78      0.77     12000\n",
            " weighted avg       0.78      0.78      0.77     12000\n",
            "\n"
          ],
          "name": "stdout"
        }
      ]
    },
    {
      "cell_type": "markdown",
      "metadata": {
        "id": "O9cIqcsRKmzj",
        "colab_type": "text"
      },
      "source": [
        "Logistic Regression"
      ]
    },
    {
      "cell_type": "code",
      "metadata": {
        "id": "uM0JSr4-Kp3P",
        "colab_type": "code",
        "outputId": "06162a7a-60b2-4e37-a042-f652ed3ed1f9",
        "colab": {
          "base_uri": "https://localhost:8080/",
          "height": 622
        }
      },
      "source": [
        "from sklearn.linear_model import LogisticRegression\n",
        "\n",
        "logreg = Pipeline([('vect', CountVectorizer()),\n",
        "                ('tfidf', TfidfTransformer()),\n",
        "                ('clf', LogisticRegression(n_jobs=1, C=1e5)),\n",
        "               ])\n",
        "logreg.fit(X_train, y_train)\n",
        "\n",
        "\n",
        "y_pred = logreg.predict(X_test)\n",
        "\n",
        "print('accuracy %s' % accuracy_score(y_pred, y_test))\n",
        "print(classification_report(y_test, y_pred,target_names=my_tags))"
      ],
      "execution_count": 44,
      "outputs": [
        {
          "output_type": "stream",
          "text": [
            "/usr/local/lib/python3.6/dist-packages/sklearn/linear_model/_logistic.py:940: ConvergenceWarning: lbfgs failed to converge (status=1):\n",
            "STOP: TOTAL NO. of ITERATIONS REACHED LIMIT.\n",
            "\n",
            "Increase the number of iterations (max_iter) or scale the data as shown in:\n",
            "    https://scikit-learn.org/stable/modules/preprocessing.html\n",
            "Please also refer to the documentation for alternative solver options:\n",
            "    https://scikit-learn.org/stable/modules/linear_model.html#logistic-regression\n",
            "  extra_warning_msg=_LOGISTIC_SOLVER_CONVERGENCE_MSG)\n"
          ],
          "name": "stderr"
        },
        {
          "output_type": "stream",
          "text": [
            "accuracy 0.7839166666666667\n",
            "               precision    recall  f1-score   support\n",
            "\n",
            "         java       0.66      0.64      0.65       597\n",
            "         html       0.94      0.88      0.91       572\n",
            "      asp.net       0.98      0.94      0.96       626\n",
            "           c#       0.76      0.75      0.75       624\n",
            "ruby-on-rails       0.81      0.82      0.82       589\n",
            "       jquery       0.59      0.59      0.59       618\n",
            "        mysql       0.77      0.78      0.78       608\n",
            "          php       0.77      0.86      0.81       601\n",
            "          ios       0.67      0.69      0.68       576\n",
            "   javascript       0.65      0.62      0.63       618\n",
            "       python       0.61      0.66      0.63       575\n",
            "            c       0.83      0.83      0.83       595\n",
            "          css       0.81      0.78      0.80       604\n",
            "      android       0.86      0.86      0.86       585\n",
            "       iphone       0.83      0.80      0.82       604\n",
            "          sql       0.68      0.61      0.64       596\n",
            "  objective-c       0.83      0.83      0.83       601\n",
            "          c++       0.90      0.94      0.92       578\n",
            "    angularjs       0.94      0.96      0.95       616\n",
            "         .net       0.81      0.85      0.83       617\n",
            "\n",
            "     accuracy                           0.78     12000\n",
            "    macro avg       0.78      0.78      0.78     12000\n",
            " weighted avg       0.78      0.78      0.78     12000\n",
            "\n"
          ],
          "name": "stdout"
        }
      ]
    },
    {
      "cell_type": "markdown",
      "metadata": {
        "id": "nHBd-GcjK5G6",
        "colab_type": "text"
      },
      "source": [
        "Word2vec and Logistic Regression"
      ]
    },
    {
      "cell_type": "code",
      "metadata": {
        "id": "uWHUUYGpK5vF",
        "colab_type": "code",
        "outputId": "734d3e83-4675-4d01-d294-b9a4f1875bb3",
        "colab": {
          "base_uri": "https://localhost:8080/",
          "height": 121
        }
      },
      "source": [
        "from google.colab import drive\n",
        "drive.mount('/content/drive')"
      ],
      "execution_count": 46,
      "outputs": [
        {
          "output_type": "stream",
          "text": [
            "Go to this URL in a browser: https://accounts.google.com/o/oauth2/auth?client_id=947318989803-6bn6qk8qdgf4n4g3pfee6491hc0brc4i.apps.googleusercontent.com&redirect_uri=urn%3aietf%3awg%3aoauth%3a2.0%3aoob&response_type=code&scope=email%20https%3a%2f%2fwww.googleapis.com%2fauth%2fdocs.test%20https%3a%2f%2fwww.googleapis.com%2fauth%2fdrive%20https%3a%2f%2fwww.googleapis.com%2fauth%2fdrive.photos.readonly%20https%3a%2f%2fwww.googleapis.com%2fauth%2fpeopleapi.readonly\n",
            "\n",
            "Enter your authorization code:\n",
            "··········\n",
            "Mounted at /content/drive\n"
          ],
          "name": "stdout"
        }
      ]
    },
    {
      "cell_type": "code",
      "metadata": {
        "id": "2I4joH7qYUVy",
        "colab_type": "code",
        "outputId": "09da3018-bacf-4caf-a4b9-98747df87c01",
        "colab": {
          "base_uri": "https://localhost:8080/",
          "height": 70
        }
      },
      "source": [
        "import gensim\n",
        "wv = gensim.models.KeyedVectors.load_word2vec_format(\"/content/drive/My Drive/Lakehead/GoogleNews-vectors-negative300.bin.gz\", binary=True)\n",
        "wv.init_sims(replace=True)"
      ],
      "execution_count": 47,
      "outputs": [
        {
          "output_type": "stream",
          "text": [
            "/usr/local/lib/python3.6/dist-packages/smart_open/smart_open_lib.py:410: UserWarning: This function is deprecated, use smart_open.open instead. See the migration notes for details: https://github.com/RaRe-Technologies/smart_open/blob/master/README.rst#migrating-to-the-new-open-function\n",
            "  'See the migration notes for details: %s' % _MIGRATION_NOTES_URL\n"
          ],
          "name": "stderr"
        }
      ]
    },
    {
      "cell_type": "code",
      "metadata": {
        "id": "PtqSdww7bKaZ",
        "colab_type": "code",
        "outputId": "82bc1968-54e6-4541-e081-1335bb3e6b37",
        "colab": {
          "base_uri": "https://localhost:8080/",
          "height": 353
        }
      },
      "source": [
        "from itertools import islice\n",
        "list(islice(wv.vocab, 13030, 13050))"
      ],
      "execution_count": 48,
      "outputs": [
        {
          "output_type": "execute_result",
          "data": {
            "text/plain": [
              "['Memorial_Hospital',\n",
              " 'Seniors',\n",
              " 'memorandum',\n",
              " 'elephant',\n",
              " 'Trump',\n",
              " 'Census',\n",
              " 'pilgrims',\n",
              " 'De',\n",
              " 'Dogs',\n",
              " '###-####_ext',\n",
              " 'chaotic',\n",
              " 'forgive',\n",
              " 'scholar',\n",
              " 'Lottery',\n",
              " 'decreasing',\n",
              " 'Supervisor',\n",
              " 'fundamentally',\n",
              " 'Fitness',\n",
              " 'abundance',\n",
              " 'Hold']"
            ]
          },
          "metadata": {
            "tags": []
          },
          "execution_count": 48
        }
      ]
    },
    {
      "cell_type": "code",
      "metadata": {
        "id": "bf5D4SthbQ67",
        "colab_type": "code",
        "colab": {}
      },
      "source": [
        "def word_averaging(wv, words):\n",
        "    all_words, mean = set(), []\n",
        "    \n",
        "    for word in words:\n",
        "        if isinstance(word, np.ndarray):\n",
        "            mean.append(word)\n",
        "        elif word in wv.vocab:\n",
        "            mean.append(wv.syn0norm[wv.vocab[word].index])\n",
        "            all_words.add(wv.vocab[word].index)\n",
        "\n",
        "    if not mean:\n",
        "        logging.warning(\"cannot compute similarity with no input %s\", words)\n",
        "        # FIXME: remove these examples in pre-processing\n",
        "        return np.zeros(wv.vector_size,)\n",
        "\n",
        "    mean = gensim.matutils.unitvec(np.array(mean).mean(axis=0)).astype(np.float32)\n",
        "    return mean\n",
        "\n",
        "def  word_averaging_list(wv, text_list):\n",
        "    return np.vstack([word_averaging(wv, post) for post in text_list ])"
      ],
      "execution_count": 0,
      "outputs": []
    },
    {
      "cell_type": "code",
      "metadata": {
        "id": "wBhTnZt_bSIz",
        "colab_type": "code",
        "outputId": "a4e774bf-5947-4a4f-bf16-6e691b1bbcd3",
        "colab": {
          "base_uri": "https://localhost:8080/",
          "height": 154
        }
      },
      "source": [
        "nltk.download('punkt')\n",
        "def w2v_tokenize_text(text):\n",
        "    tokens = []\n",
        "    for sent in nltk.sent_tokenize(text, language='english'):\n",
        "        for word in nltk.word_tokenize(sent, language='english'):\n",
        "            if len(word) < 2:\n",
        "                continue\n",
        "            tokens.append(word)\n",
        "    return tokens\n",
        "    \n",
        "train, test = train_test_split(df, test_size=0.3, random_state = 42)\n",
        "\n",
        "test_tokenized = test.apply(lambda r: w2v_tokenize_text(r['post']), axis=1).values\n",
        "train_tokenized = train.apply(lambda r: w2v_tokenize_text(r['post']), axis=1).values\n",
        "\n",
        "X_train_word_average = word_averaging_list(wv,train_tokenized)\n",
        "X_test_word_average = word_averaging_list(wv,test_tokenized)"
      ],
      "execution_count": 50,
      "outputs": [
        {
          "output_type": "stream",
          "text": [
            "[nltk_data] Downloading package punkt to /root/nltk_data...\n",
            "[nltk_data]   Unzipping tokenizers/punkt.zip.\n"
          ],
          "name": "stdout"
        },
        {
          "output_type": "stream",
          "text": [
            "/usr/local/lib/python3.6/dist-packages/ipykernel_launcher.py:8: DeprecationWarning: Call to deprecated `syn0norm` (Attribute will be removed in 4.0.0, use self.wv.vectors_norm instead).\n",
            "  \n",
            "/usr/local/lib/python3.6/dist-packages/gensim/matutils.py:737: FutureWarning: Conversion of the second argument of issubdtype from `int` to `np.signedinteger` is deprecated. In future, it will be treated as `np.int64 == np.dtype(int).type`.\n",
            "  if np.issubdtype(vec.dtype, np.int):\n",
            "WARNING:root:cannot compute similarity with no input []\n"
          ],
          "name": "stderr"
        }
      ]
    },
    {
      "cell_type": "code",
      "metadata": {
        "id": "nr9OxvjObUNb",
        "colab_type": "code",
        "outputId": "ccd08180-0e06-4620-bca6-3b6ef274f596",
        "colab": {
          "base_uri": "https://localhost:8080/",
          "height": 622
        }
      },
      "source": [
        "from sklearn.linear_model import LogisticRegression\n",
        "from sklearn.metrics import classification_report\n",
        "logreg = LogisticRegression(n_jobs=1, C=1e5)\n",
        "logreg = logreg.fit(X_train_word_average, train['tags'])\n",
        "y_pred = logreg.predict(X_test_word_average)\n",
        "print('accuracy %s' % accuracy_score(y_pred, test.tags))\n",
        "print(classification_report(test.tags, y_pred,target_names=my_tags))"
      ],
      "execution_count": 51,
      "outputs": [
        {
          "output_type": "stream",
          "text": [
            "/usr/local/lib/python3.6/dist-packages/sklearn/linear_model/_logistic.py:940: ConvergenceWarning: lbfgs failed to converge (status=1):\n",
            "STOP: TOTAL NO. of ITERATIONS REACHED LIMIT.\n",
            "\n",
            "Increase the number of iterations (max_iter) or scale the data as shown in:\n",
            "    https://scikit-learn.org/stable/modules/preprocessing.html\n",
            "Please also refer to the documentation for alternative solver options:\n",
            "    https://scikit-learn.org/stable/modules/linear_model.html#logistic-regression\n",
            "  extra_warning_msg=_LOGISTIC_SOLVER_CONVERGENCE_MSG)\n"
          ],
          "name": "stderr"
        },
        {
          "output_type": "stream",
          "text": [
            "accuracy 0.6325\n",
            "               precision    recall  f1-score   support\n",
            "\n",
            "         java       0.60      0.57      0.59       613\n",
            "         html       0.76      0.75      0.75       620\n",
            "      asp.net       0.64      0.65      0.65       587\n",
            "           c#       0.53      0.52      0.52       586\n",
            "ruby-on-rails       0.70      0.73      0.72       599\n",
            "       jquery       0.42      0.38      0.40       589\n",
            "        mysql       0.62      0.62      0.62       594\n",
            "          php       0.72      0.79      0.76       610\n",
            "          ios       0.57      0.62      0.59       617\n",
            "   javascript       0.54      0.54      0.54       587\n",
            "       python       0.59      0.50      0.54       611\n",
            "            c       0.61      0.61      0.61       594\n",
            "          css       0.63      0.60      0.62       619\n",
            "      android       0.59      0.57      0.58       574\n",
            "       iphone       0.69      0.74      0.72       584\n",
            "          sql       0.40      0.43      0.41       578\n",
            "  objective-c       0.67      0.70      0.69       591\n",
            "          c++       0.78      0.77      0.77       608\n",
            "    angularjs       0.84      0.81      0.82       638\n",
            "         .net       0.69      0.70      0.69       601\n",
            "\n",
            "     accuracy                           0.63     12000\n",
            "    macro avg       0.63      0.63      0.63     12000\n",
            " weighted avg       0.63      0.63      0.63     12000\n",
            "\n"
          ],
          "name": "stdout"
        }
      ]
    },
    {
      "cell_type": "markdown",
      "metadata": {
        "id": "TMhAFm1xirzk",
        "colab_type": "text"
      },
      "source": [
        "Doc2vec and Logistic Regression"
      ]
    },
    {
      "cell_type": "code",
      "metadata": {
        "id": "5YhPcD1Pit_N",
        "colab_type": "code",
        "colab": {}
      },
      "source": [
        "from tqdm import tqdm\n",
        "tqdm.pandas(desc=\"progress-bar\")\n",
        "from gensim.models import Doc2Vec\n",
        "from sklearn import utils\n",
        "import gensim\n",
        "from gensim.models.doc2vec import TaggedDocument\n",
        "import re\n",
        "\n",
        "def label_sentences(corpus, label_type):\n",
        "    \"\"\"\n",
        "    Gensim's Doc2Vec implementation requires each document/paragraph to have a label associated with it.\n",
        "    We do this by using the TaggedDocument method. The format will be \"TRAIN_i\" or \"TEST_i\" where \"i\" is\n",
        "    a dummy index of the post.\n",
        "    \"\"\"\n",
        "    labeled = []\n",
        "    for i, v in enumerate(corpus):\n",
        "        label = label_type + '_' + str(i)\n",
        "        labeled.append(gensim.models.doc2vec.TaggedDocument(v.split(), [label]))\n",
        "    return labeled\n",
        "X_train, X_test, y_train, y_test = train_test_split(df.post, df.tags, random_state=0, test_size=0.3)\n",
        "X_train = label_sentences(X_train, 'Train')\n",
        "X_test = label_sentences(X_test, 'Test')\n",
        "all_data = X_train + X_test"
      ],
      "execution_count": 0,
      "outputs": []
    },
    {
      "cell_type": "code",
      "metadata": {
        "id": "SwfEdZFvlAV-",
        "colab_type": "code",
        "outputId": "a1dc9716-f715-4531-b7ef-225dc740f79f",
        "colab": {
          "base_uri": "https://localhost:8080/",
          "height": 70
        }
      },
      "source": [
        "all_data[:2]"
      ],
      "execution_count": 53,
      "outputs": [
        {
          "output_type": "execute_result",
          "data": {
            "text/plain": [
              "[TaggedDocument(words=['fulltext', 'search', 'php', 'pdo', 'returning', 'result', 'searched', 'lot', 'matter', 'find', 'wrong', 'setup', 'trying', 'fulltext', 'search', 'using', 'pdo', 'php', 'get', 'results', 'error', 'messages', 'table', 'contains', 'customer', 'details', 'id', 'int', '11', 'auto_increment', 'name', 'varchar', '150', 'lastname', 'varchar', '150', 'company', 'varchar', '250', 'adress', 'varchar', '150', 'postcode', 'int', '5', 'city', 'varchar', '150', 'email', 'varchar', '250', 'phone', 'varchar', '20', 'orgnr', 'varchar', '15', 'timestamp', 'timestamp', 'current_timestamp', 'run', 'sqlquery', 'alter', 'table', 'system_customer', 'add', 'fulltext', 'name', 'lastname', 'except', 'columns', 'id', 'postcode', 'timestamp', 'signs', 'trouble', 'far', 'idea', 'problem', 'lies', 'db', 'configuration', 'php', 'code', 'goes', 'php', 'sth', 'dbhprepare', 'select', 'name', 'lastname', 'company', 'adress', 'city', 'phone', 'email', 'orgnr', 'db_pre', 'customer', 'match', 'name', 'lastname', 'company', 'adress', 'city', 'phone', 'email', 'orgnr', 'search', 'boolean', 'mode', 'bind', 'placeholders', 'sthbindparam', 'search', 'data', 'sthexecute', 'rows', 'sthfetchall', 'testing', 'print_r', 'dbherrorinfo', 'empty', 'rows', 'echo', 'else', 'echo', 'foreach', 'rows', 'row', 'echo', 'tr', 'datahref', 'new_orderphp', 'cid', 'row', 'id', 'echo', 'td', 'row', 'name', 'td', 'echo', 'td', 'row', 'lastname', 'td', 'echo', 'td', 'row', 'company', 'td', 'echo', 'td', 'row', 'phone', 'td', 'echo', 'td', 'row', 'email', 'td', 'echo', 'td', 'date', 'ymd', 'strtotime', 'row', 'timestamp', 'td', 'echo', 'tr', 'echo', 'tried', 'change', 'parameter', 'searchquery', 'string', 'like', 'testcompany', 'somename', 'boolean', 'mode', 'also', 'read', 'word', 'found', '50', 'rows', 'counts', 'common', 'word', 'pretty', 'sure', 'case', 'uses', 'specific', 'words', 'table', 'uses', 'myisam', 'engine', 'get', 'results', 'error', 'messages', 'please', 'help', 'point', 'wrong', 'thank'], tags=['Train_0']),\n",
              " TaggedDocument(words=['select', 'everything', '1', 'table', 'x', 'rows', 'another', 'im', 'making', 'join', 'query', 'like', 'select', 'clothes', 'c', 'join', 'style', 'cstyleid', 'ssylelid', 'clothesid', '19', 'dont', 'want', 'select', 'everything', 'style', 'want', 'select', 'everything', 'clothes', '20', 'rows', 'select', '1', 'row', '10', 'style', 'easyest', 'way', 'without', 'select', 'every', 'row', 'clothes', '20', 'things', 'select', 'like', 'select', 'cid', 'cdescription', 'cname', 'csize', 'cbrand', 'sname', 'clothes', 'c', 'join', 'style', 'cstyleid', 'stsylelid', 'clothesid', '19', 'would', 'fastest', 'way', 'possibillity'], tags=['Train_1'])]"
            ]
          },
          "metadata": {
            "tags": []
          },
          "execution_count": 53
        }
      ]
    },
    {
      "cell_type": "code",
      "metadata": {
        "id": "cszIoYzWlCoE",
        "colab_type": "code",
        "outputId": "b3c6ccc3-76a1-44d9-b669-5b3d6ee1a542",
        "colab": {
          "base_uri": "https://localhost:8080/",
          "height": 538
        }
      },
      "source": [
        "model_dbow = Doc2Vec(dm=0, vector_size=300, negative=5, min_count=1, alpha=0.065, min_alpha=0.065)\n",
        "model_dbow.build_vocab([x for x in tqdm(all_data)])\n",
        "\n",
        "for epoch in range(30):\n",
        "    model_dbow.train(utils.shuffle([x for x in tqdm(all_data)]), total_examples=len(all_data), epochs=1)\n",
        "    model_dbow.alpha -= 0.002\n",
        "    model_dbow.min_alpha = model_dbow.alpha"
      ],
      "execution_count": 54,
      "outputs": [
        {
          "output_type": "stream",
          "text": [
            "100%|██████████| 40000/40000 [00:00<00:00, 2324551.22it/s]\n",
            "100%|██████████| 40000/40000 [00:00<00:00, 2675024.08it/s]\n",
            "100%|██████████| 40000/40000 [00:00<00:00, 3076525.41it/s]\n",
            "100%|██████████| 40000/40000 [00:00<00:00, 2629905.01it/s]\n",
            "100%|██████████| 40000/40000 [00:00<00:00, 2656261.93it/s]\n",
            "100%|██████████| 40000/40000 [00:00<00:00, 2844656.65it/s]\n",
            "100%|██████████| 40000/40000 [00:00<00:00, 3107064.47it/s]\n",
            "100%|██████████| 40000/40000 [00:00<00:00, 2846442.37it/s]\n",
            "100%|██████████| 40000/40000 [00:00<00:00, 2374862.48it/s]\n",
            "100%|██████████| 40000/40000 [00:00<00:00, 3213225.82it/s]\n",
            "100%|██████████| 40000/40000 [00:00<00:00, 3041003.44it/s]\n",
            "100%|██████████| 40000/40000 [00:00<00:00, 2601199.42it/s]\n",
            "100%|██████████| 40000/40000 [00:00<00:00, 2828637.71it/s]\n",
            "100%|██████████| 40000/40000 [00:00<00:00, 2695264.99it/s]\n",
            "100%|██████████| 40000/40000 [00:00<00:00, 2168916.01it/s]\n",
            "100%|██████████| 40000/40000 [00:00<00:00, 2381233.11it/s]\n",
            "100%|██████████| 40000/40000 [00:00<00:00, 2637885.57it/s]\n",
            "100%|██████████| 40000/40000 [00:00<00:00, 2185529.34it/s]\n",
            "100%|██████████| 40000/40000 [00:00<00:00, 2715858.52it/s]\n",
            "100%|██████████| 40000/40000 [00:00<00:00, 2532754.03it/s]\n",
            "100%|██████████| 40000/40000 [00:00<00:00, 2539462.96it/s]\n",
            "100%|██████████| 40000/40000 [00:00<00:00, 2902030.03it/s]\n",
            "100%|██████████| 40000/40000 [00:00<00:00, 3123318.19it/s]\n",
            "100%|██████████| 40000/40000 [00:00<00:00, 2913773.42it/s]\n",
            "100%|██████████| 40000/40000 [00:00<00:00, 2731333.50it/s]\n",
            "100%|██████████| 40000/40000 [00:00<00:00, 2842584.16it/s]\n",
            "100%|██████████| 40000/40000 [00:00<00:00, 3168082.78it/s]\n",
            "100%|██████████| 40000/40000 [00:00<00:00, 2435751.97it/s]\n",
            "100%|██████████| 40000/40000 [00:00<00:00, 3065227.46it/s]\n",
            "100%|██████████| 40000/40000 [00:00<00:00, 2659630.63it/s]\n",
            "100%|██████████| 40000/40000 [00:00<00:00, 2824447.14it/s]\n"
          ],
          "name": "stderr"
        }
      ]
    },
    {
      "cell_type": "code",
      "metadata": {
        "id": "WUEGbHssmxmb",
        "colab_type": "code",
        "colab": {}
      },
      "source": [
        "def get_vectors(model, corpus_size, vectors_size, vectors_type):\n",
        "    \"\"\"\n",
        "    Get vectors from trained doc2vec model\n",
        "    :param doc2vec_model: Trained Doc2Vec model\n",
        "    :param corpus_size: Size of the data\n",
        "    :param vectors_size: Size of the embedding vectors\n",
        "    :param vectors_type: Training or Testing vectors\n",
        "    :return: list of vectors\n",
        "    \"\"\"\n",
        "    vectors = np.zeros((corpus_size, vectors_size))\n",
        "    for i in range(0, corpus_size):\n",
        "        prefix = vectors_type + '_' + str(i)\n",
        "        vectors[i] = model.docvecs[prefix]\n",
        "    return vectors\n",
        "    \n",
        "train_vectors_dbow = get_vectors(model_dbow, len(X_train), 300, 'Train')\n",
        "test_vectors_dbow = get_vectors(model_dbow, len(X_test), 300, 'Test')"
      ],
      "execution_count": 0,
      "outputs": []
    },
    {
      "cell_type": "code",
      "metadata": {
        "id": "7Di-W8VMm0zX",
        "colab_type": "code",
        "outputId": "f74f573e-c2d4-40e9-a405-bff43c9a9ed2",
        "colab": {
          "base_uri": "https://localhost:8080/",
          "height": 756
        }
      },
      "source": [
        "logreg = LogisticRegression(n_jobs=1, C=1e5)\n",
        "logreg.fit(train_vectors_dbow, y_train)\n",
        "logreg = logreg.fit(train_vectors_dbow, y_train)\n",
        "y_pred = logreg.predict(test_vectors_dbow)\n",
        "print('accuracy %s' % accuracy_score(y_pred, y_test))\n",
        "print(classification_report(y_test, y_pred,target_names=my_tags))"
      ],
      "execution_count": 56,
      "outputs": [
        {
          "output_type": "stream",
          "text": [
            "/usr/local/lib/python3.6/dist-packages/sklearn/linear_model/_logistic.py:940: ConvergenceWarning: lbfgs failed to converge (status=1):\n",
            "STOP: TOTAL NO. of ITERATIONS REACHED LIMIT.\n",
            "\n",
            "Increase the number of iterations (max_iter) or scale the data as shown in:\n",
            "    https://scikit-learn.org/stable/modules/preprocessing.html\n",
            "Please also refer to the documentation for alternative solver options:\n",
            "    https://scikit-learn.org/stable/modules/linear_model.html#logistic-regression\n",
            "  extra_warning_msg=_LOGISTIC_SOLVER_CONVERGENCE_MSG)\n",
            "/usr/local/lib/python3.6/dist-packages/sklearn/linear_model/_logistic.py:940: ConvergenceWarning: lbfgs failed to converge (status=1):\n",
            "STOP: TOTAL NO. of ITERATIONS REACHED LIMIT.\n",
            "\n",
            "Increase the number of iterations (max_iter) or scale the data as shown in:\n",
            "    https://scikit-learn.org/stable/modules/preprocessing.html\n",
            "Please also refer to the documentation for alternative solver options:\n",
            "    https://scikit-learn.org/stable/modules/linear_model.html#logistic-regression\n",
            "  extra_warning_msg=_LOGISTIC_SOLVER_CONVERGENCE_MSG)\n"
          ],
          "name": "stderr"
        },
        {
          "output_type": "stream",
          "text": [
            "accuracy 0.7985833333333333\n",
            "               precision    recall  f1-score   support\n",
            "\n",
            "         java       0.68      0.66      0.67       589\n",
            "         html       0.88      0.90      0.89       661\n",
            "      asp.net       0.95      0.94      0.95       606\n",
            "           c#       0.80      0.77      0.78       613\n",
            "ruby-on-rails       0.84      0.88      0.86       601\n",
            "       jquery       0.70      0.69      0.70       585\n",
            "        mysql       0.87      0.80      0.83       621\n",
            "          php       0.81      0.82      0.82       587\n",
            "          ios       0.65      0.67      0.66       560\n",
            "   javascript       0.67      0.67      0.67       611\n",
            "       python       0.66      0.66      0.66       593\n",
            "            c       0.80      0.84      0.82       581\n",
            "          css       0.79      0.77      0.78       608\n",
            "      android       0.86      0.84      0.85       593\n",
            "       iphone       0.81      0.82      0.81       592\n",
            "          sql       0.69      0.65      0.67       597\n",
            "  objective-c       0.86      0.86      0.86       604\n",
            "          c++       0.90      0.93      0.91       610\n",
            "    angularjs       0.92      0.96      0.94       595\n",
            "         .net       0.79      0.82      0.81       593\n",
            "\n",
            "     accuracy                           0.80     12000\n",
            "    macro avg       0.80      0.80      0.80     12000\n",
            " weighted avg       0.80      0.80      0.80     12000\n",
            "\n"
          ],
          "name": "stdout"
        }
      ]
    },
    {
      "cell_type": "markdown",
      "metadata": {
        "id": "JLZJfO8zm-kT",
        "colab_type": "text"
      },
      "source": [
        "BOW with Keras"
      ]
    },
    {
      "cell_type": "code",
      "metadata": {
        "id": "3857Fcx1nAgq",
        "colab_type": "code",
        "outputId": "a0fb8711-05bb-40c5-b428-22626e8b49e4",
        "colab": {
          "base_uri": "https://localhost:8080/",
          "height": 1000
        }
      },
      "source": [
        "import itertools\n",
        "import os\n",
        "%tensorflow_version 1.x\n",
        "%matplotlib inline\n",
        "import matplotlib.pyplot as plt\n",
        "import numpy as np\n",
        "import pandas as pd\n",
        "import tensorflow as tf\n",
        "%tensorflow_version 1.x\n",
        "from sklearn.preprocessing import LabelBinarizer, LabelEncoder\n",
        "from sklearn.metrics import confusion_matrix\n",
        "%tensorflow_version 1.x\n",
        "from tensorflow import keras\n",
        "from keras.models import Sequential\n",
        "from keras.layers import Dense, Activation, Dropout\n",
        "from keras.preprocessing import text, sequence\n",
        "from keras import utils\n",
        "%tensorflow_version 1.x\n",
        "train_size = int(len(df) * .7)\n",
        "train_posts = df['post'][:train_size]\n",
        "train_tags = df['tags'][:train_size]\n",
        "\n",
        "test_posts = df['post'][train_size:]\n",
        "test_tags = df['tags'][train_size:]\n",
        "\n",
        "max_words = 1000\n",
        "tokenize = text.Tokenizer(num_words=max_words, char_level=False)\n",
        "tokenize.fit_on_texts(train_posts) # only fit on train\n",
        "\n",
        "x_train = tokenize.texts_to_matrix(train_posts)\n",
        "x_test = tokenize.texts_to_matrix(test_posts)\n",
        "\n",
        "encoder = LabelEncoder()\n",
        "encoder.fit(train_tags)\n",
        "y_train = encoder.transform(train_tags)\n",
        "y_test = encoder.transform(test_tags)\n",
        "\n",
        "num_classes = np.max(y_train) + 1\n",
        "y_train = utils.to_categorical(y_train, num_classes)\n",
        "y_test = utils.to_categorical(y_test, num_classes)\n",
        "\n",
        "batch_size = 32\n",
        "epochs = 20\n",
        "\n",
        "# Build the model\n",
        "model = Sequential()\n",
        "model.add(Dense(512, input_shape=(max_words,)))\n",
        "model.add(Activation('relu'))\n",
        "model.add(Dropout(0.5))\n",
        "model.add(Dense(num_classes))\n",
        "model.add(Activation('softmax'))\n",
        "\n",
        "model.compile(loss='categorical_crossentropy',\n",
        "              optimizer='adam',\n",
        "              metrics=['accuracy',f1_m,precision_m,recall_m])\n",
        "model.summary()              \n",
        "history = model.fit(x_train, y_train,\n",
        "                    batch_size=batch_size,\n",
        "                    epochs=epochs,\n",
        "                    verbose=1,\n",
        "                    validation_split=0.1)"
      ],
      "execution_count": 25,
      "outputs": [
        {
          "output_type": "stream",
          "text": [
            "Model: \"sequential_8\"\n",
            "_________________________________________________________________\n",
            "Layer (type)                 Output Shape              Param #   \n",
            "=================================================================\n",
            "dense_11 (Dense)             (None, 512)               512512    \n",
            "_________________________________________________________________\n",
            "activation_12 (Activation)   (None, 512)               0         \n",
            "_________________________________________________________________\n",
            "dropout_9 (Dropout)          (None, 512)               0         \n",
            "_________________________________________________________________\n",
            "dense_12 (Dense)             (None, 20)                10260     \n",
            "_________________________________________________________________\n",
            "activation_13 (Activation)   (None, 20)                0         \n",
            "=================================================================\n",
            "Total params: 522,772\n",
            "Trainable params: 522,772\n",
            "Non-trainable params: 0\n",
            "_________________________________________________________________\n",
            "Train on 25200 samples, validate on 2800 samples\n",
            "Epoch 1/20\n",
            "25200/25200 [==============================] - 7s 262us/step - loss: 1.0323 - acc: 0.7139 - f1_m: 0.5490 - precision_m: 0.5490 - recall_m: 0.5490 - val_loss: 0.6791 - val_acc: 0.7896 - val_f1_m: 0.7146 - val_precision_m: 0.7146 - val_recall_m: 0.7146\n",
            "Epoch 2/20\n",
            "25200/25200 [==============================] - 4s 155us/step - loss: 0.5717 - acc: 0.8173 - f1_m: 0.7546 - precision_m: 0.7546 - recall_m: 0.7546 - val_loss: 0.6560 - val_acc: 0.7932 - val_f1_m: 0.7336 - val_precision_m: 0.7336 - val_recall_m: 0.7336\n",
            "Epoch 3/20\n",
            "25200/25200 [==============================] - 4s 156us/step - loss: 0.4704 - acc: 0.8450 - f1_m: 0.7936 - precision_m: 0.7936 - recall_m: 0.7936 - val_loss: 0.6609 - val_acc: 0.7954 - val_f1_m: 0.7550 - val_precision_m: 0.7550 - val_recall_m: 0.7550\n",
            "Epoch 4/20\n",
            "25200/25200 [==============================] - 4s 155us/step - loss: 0.3948 - acc: 0.8708 - f1_m: 0.8250 - precision_m: 0.8250 - recall_m: 0.8250 - val_loss: 0.6979 - val_acc: 0.7811 - val_f1_m: 0.7493 - val_precision_m: 0.7493 - val_recall_m: 0.7493\n",
            "Epoch 5/20\n",
            "25200/25200 [==============================] - 4s 156us/step - loss: 0.3383 - acc: 0.8882 - f1_m: 0.8503 - precision_m: 0.8503 - recall_m: 0.8503 - val_loss: 0.7218 - val_acc: 0.7850 - val_f1_m: 0.7571 - val_precision_m: 0.7571 - val_recall_m: 0.7571\n",
            "Epoch 6/20\n",
            "25200/25200 [==============================] - 4s 156us/step - loss: 0.2822 - acc: 0.9071 - f1_m: 0.8763 - precision_m: 0.8763 - recall_m: 0.8763 - val_loss: 0.7423 - val_acc: 0.7879 - val_f1_m: 0.7596 - val_precision_m: 0.7596 - val_recall_m: 0.7596\n",
            "Epoch 7/20\n",
            "25200/25200 [==============================] - 4s 155us/step - loss: 0.2353 - acc: 0.9230 - f1_m: 0.8960 - precision_m: 0.8960 - recall_m: 0.8960 - val_loss: 0.7799 - val_acc: 0.7854 - val_f1_m: 0.7618 - val_precision_m: 0.7618 - val_recall_m: 0.7618\n",
            "Epoch 8/20\n",
            "25200/25200 [==============================] - 4s 156us/step - loss: 0.1979 - acc: 0.9360 - f1_m: 0.9135 - precision_m: 0.9135 - recall_m: 0.9135 - val_loss: 0.8139 - val_acc: 0.7800 - val_f1_m: 0.7614 - val_precision_m: 0.7614 - val_recall_m: 0.7614\n",
            "Epoch 9/20\n",
            "25200/25200 [==============================] - 4s 153us/step - loss: 0.1606 - acc: 0.9513 - f1_m: 0.9322 - precision_m: 0.9322 - recall_m: 0.9322 - val_loss: 0.8502 - val_acc: 0.7775 - val_f1_m: 0.7611 - val_precision_m: 0.7611 - val_recall_m: 0.7611\n",
            "Epoch 10/20\n",
            "25200/25200 [==============================] - 4s 153us/step - loss: 0.1357 - acc: 0.9587 - f1_m: 0.9437 - precision_m: 0.9437 - recall_m: 0.9437 - val_loss: 0.8934 - val_acc: 0.7789 - val_f1_m: 0.7625 - val_precision_m: 0.7625 - val_recall_m: 0.7625\n",
            "Epoch 11/20\n",
            "25200/25200 [==============================] - 4s 154us/step - loss: 0.1123 - acc: 0.9665 - f1_m: 0.9555 - precision_m: 0.9555 - recall_m: 0.9555 - val_loss: 0.9447 - val_acc: 0.7704 - val_f1_m: 0.7575 - val_precision_m: 0.7575 - val_recall_m: 0.7575\n",
            "Epoch 12/20\n",
            "25200/25200 [==============================] - 4s 154us/step - loss: 0.0924 - acc: 0.9722 - f1_m: 0.9637 - precision_m: 0.9637 - recall_m: 0.9637 - val_loss: 0.9663 - val_acc: 0.7704 - val_f1_m: 0.7593 - val_precision_m: 0.7593 - val_recall_m: 0.7593\n",
            "Epoch 13/20\n",
            "25200/25200 [==============================] - 4s 154us/step - loss: 0.0860 - acc: 0.9750 - f1_m: 0.9673 - precision_m: 0.9673 - recall_m: 0.9673 - val_loss: 0.9982 - val_acc: 0.7786 - val_f1_m: 0.7661 - val_precision_m: 0.7661 - val_recall_m: 0.7661\n",
            "Epoch 14/20\n",
            "25200/25200 [==============================] - 4s 156us/step - loss: 0.0717 - acc: 0.9795 - f1_m: 0.9739 - precision_m: 0.9739 - recall_m: 0.9739 - val_loss: 1.0397 - val_acc: 0.7746 - val_f1_m: 0.7618 - val_precision_m: 0.7618 - val_recall_m: 0.7618\n",
            "Epoch 15/20\n",
            "25200/25200 [==============================] - 4s 156us/step - loss: 0.0636 - acc: 0.9814 - f1_m: 0.9765 - precision_m: 0.9765 - recall_m: 0.9765 - val_loss: 1.0498 - val_acc: 0.7804 - val_f1_m: 0.7686 - val_precision_m: 0.7686 - val_recall_m: 0.7686\n",
            "Epoch 16/20\n",
            "25200/25200 [==============================] - 4s 155us/step - loss: 0.0585 - acc: 0.9845 - f1_m: 0.9801 - precision_m: 0.9801 - recall_m: 0.9801 - val_loss: 1.0808 - val_acc: 0.7800 - val_f1_m: 0.7725 - val_precision_m: 0.7725 - val_recall_m: 0.7725\n",
            "Epoch 17/20\n",
            "25200/25200 [==============================] - 4s 157us/step - loss: 0.0521 - acc: 0.9845 - f1_m: 0.9812 - precision_m: 0.9812 - recall_m: 0.9812 - val_loss: 1.1180 - val_acc: 0.7729 - val_f1_m: 0.7661 - val_precision_m: 0.7661 - val_recall_m: 0.7661\n",
            "Epoch 18/20\n",
            "25200/25200 [==============================] - 4s 154us/step - loss: 0.0491 - acc: 0.9859 - f1_m: 0.9831 - precision_m: 0.9831 - recall_m: 0.9831 - val_loss: 1.1437 - val_acc: 0.7811 - val_f1_m: 0.7718 - val_precision_m: 0.7718 - val_recall_m: 0.7718\n",
            "Epoch 19/20\n",
            "25200/25200 [==============================] - 4s 154us/step - loss: 0.0430 - acc: 0.9877 - f1_m: 0.9853 - precision_m: 0.9853 - recall_m: 0.9853 - val_loss: 1.1697 - val_acc: 0.7757 - val_f1_m: 0.7675 - val_precision_m: 0.7675 - val_recall_m: 0.7675\n",
            "Epoch 20/20\n",
            "25200/25200 [==============================] - 4s 155us/step - loss: 0.0417 - acc: 0.9876 - f1_m: 0.9859 - precision_m: 0.9859 - recall_m: 0.9859 - val_loss: 1.1961 - val_acc: 0.7811 - val_f1_m: 0.7746 - val_precision_m: 0.7746 - val_recall_m: 0.7746\n"
          ],
          "name": "stdout"
        }
      ]
    },
    {
      "cell_type": "code",
      "metadata": {
        "id": "hhnwQFY3nW3S",
        "colab_type": "code",
        "outputId": "b86edeb9-cda1-4180-ff55-a7450348e327",
        "colab": {
          "base_uri": "https://localhost:8080/",
          "height": 34
        }
      },
      "source": [
        "loss, accuracy, f1_score, precision, recall= model.evaluate(x_test, y_test, batch_size=batch_size, verbose=0)\n",
        "print(f'Test loss:{loss}, accuracy:{accuracy}, F-1 score:{f1_score}, Precision:{precision}, recall:{recall}')"
      ],
      "execution_count": 26,
      "outputs": [
        {
          "output_type": "stream",
          "text": [
            "Test loss:1.1811138429641723, accuracy:0.77875, F-1 score:0.7709166070620219, Precision:0.7709166666666667, recall:0.7709166666666667\n"
          ],
          "name": "stdout"
        }
      ]
    },
    {
      "cell_type": "markdown",
      "metadata": {
        "id": "wTBDoKEaseQ8",
        "colab_type": "text"
      },
      "source": [
        "CNN"
      ]
    },
    {
      "cell_type": "code",
      "metadata": {
        "id": "vUN7pLJM4UEm",
        "colab_type": "code",
        "colab": {}
      },
      "source": [
        "import keras\n",
        "from keras.models import Sequential\n",
        "from keras.layers import Dense, Dropout, Flatten\n",
        "from keras.layers import Conv1D, MaxPooling1D\n",
        "from keras import backend as K\n",
        "import matplotlib.pyplot as plt\n",
        "import numpy\n",
        "model = Sequential()\n",
        "model.add(Conv1D(filters=64, kernel_size=3,\n",
        "                 activation='relu',\n",
        "                 input_shape=(1000,1)))\n",
        "model.add(Conv1D(128, kernel_size=5, activation='relu'))\n",
        "model.add(Conv1D(128, kernel_size=5, activation='relu'))\n",
        "model.add(MaxPooling1D(pool_size=1))\n",
        "model.add(Dropout(rate = 0.25))\n",
        "model.add(Flatten())\n",
        "model.add(Dense(64, activation='relu'))\n",
        "model.add(Dropout(0.5))\n",
        "model.add(Dense(num_classes, activation='softmax'))\n",
        "\n",
        "model.compile(loss=keras.losses.categorical_crossentropy,\n",
        "              optimizer=keras.optimizers.Adam(),\n",
        "              metrics=['accuracy',f1_m,precision_m,recall_m])\n",
        "\n",
        "x_train = x_train.reshape(x_train.shape[0], x_train.shape[1], 1)\n",
        "x_test = x_test.reshape(x_test.shape[0], x_test.shape[1], 1)"
      ],
      "execution_count": 0,
      "outputs": []
    },
    {
      "cell_type": "code",
      "metadata": {
        "id": "L7rzF7wfFQzv",
        "colab_type": "code",
        "colab": {
          "base_uri": "https://localhost:8080/",
          "height": 487
        },
        "outputId": "646c6433-8986-4139-dd2d-2006cbeee2f3"
      },
      "source": [
        "print(x_train.shape)\n",
        "print(y_train.shape)\n",
        "model.summary()"
      ],
      "execution_count": 20,
      "outputs": [
        {
          "output_type": "stream",
          "text": [
            "(28000, 1000, 1)\n",
            "(28000, 20)\n",
            "Model: \"sequential_7\"\n",
            "_________________________________________________________________\n",
            "Layer (type)                 Output Shape              Param #   \n",
            "=================================================================\n",
            "conv1d_5 (Conv1D)            (None, 998, 64)           256       \n",
            "_________________________________________________________________\n",
            "conv1d_6 (Conv1D)            (None, 994, 128)          41088     \n",
            "_________________________________________________________________\n",
            "conv1d_7 (Conv1D)            (None, 990, 128)          82048     \n",
            "_________________________________________________________________\n",
            "max_pooling1d_2 (MaxPooling1 (None, 990, 128)          0         \n",
            "_________________________________________________________________\n",
            "dropout_7 (Dropout)          (None, 990, 128)          0         \n",
            "_________________________________________________________________\n",
            "flatten_6 (Flatten)          (None, 126720)            0         \n",
            "_________________________________________________________________\n",
            "dense_9 (Dense)              (None, 64)                8110144   \n",
            "_________________________________________________________________\n",
            "dropout_8 (Dropout)          (None, 64)                0         \n",
            "_________________________________________________________________\n",
            "dense_10 (Dense)             (None, 20)                1300      \n",
            "=================================================================\n",
            "Total params: 8,234,836\n",
            "Trainable params: 8,234,836\n",
            "Non-trainable params: 0\n",
            "_________________________________________________________________\n"
          ],
          "name": "stdout"
        }
      ]
    },
    {
      "cell_type": "code",
      "metadata": {
        "id": "dpY4vid_FfyT",
        "colab_type": "code",
        "colab": {
          "base_uri": "https://localhost:8080/",
          "height": 171
        },
        "outputId": "7d6f59e3-ae51-4e0c-c150-23c06046cd07"
      },
      "source": [
        "history = model.fit(x_train, y_train,\n",
        "          batch_size=32,validation_split=0.1,epochs=3)"
      ],
      "execution_count": 21,
      "outputs": [
        {
          "output_type": "stream",
          "text": [
            "ERROR! Session/line number was not unique in database. History logging moved to new session 66\n",
            "Train on 25200 samples, validate on 2800 samples\n",
            "Epoch 1/3\n",
            "25200/25200 [==============================] - 15s 591us/step - loss: 1.2300 - acc: 0.6408 - f1_m: 0.5100 - precision_m: 0.5100 - recall_m: 0.5100 - val_loss: 0.7103 - val_acc: 0.7750 - val_f1_m: 0.6968 - val_precision_m: 0.6968 - val_recall_m: 0.6968\n",
            "Epoch 2/3\n",
            "25200/25200 [==============================] - 12s 468us/step - loss: 0.8047 - acc: 0.7510 - f1_m: 0.6660 - precision_m: 0.6660 - recall_m: 0.6660 - val_loss: 0.6719 - val_acc: 0.7950 - val_f1_m: 0.7193 - val_precision_m: 0.7193 - val_recall_m: 0.7193\n",
            "Epoch 3/3\n",
            "25200/25200 [==============================] - 12s 471us/step - loss: 0.6945 - acc: 0.7779 - f1_m: 0.7059 - precision_m: 0.7059 - recall_m: 0.7059 - val_loss: 0.6785 - val_acc: 0.7950 - val_f1_m: 0.7125 - val_precision_m: 0.7125 - val_recall_m: 0.7125\n"
          ],
          "name": "stdout"
        }
      ]
    },
    {
      "cell_type": "code",
      "metadata": {
        "id": "T0S0yvn8GKhD",
        "colab_type": "code",
        "colab": {}
      },
      "source": [
        "import keras \n",
        "model.save('cnn.h5')\n",
        "model = keras.models.load_model('cnn.h5', \n",
        "                   custom_objects = {'f1_m': f1_m,  'precision_m': precision_m, 'recall_m' : recall_m})"
      ],
      "execution_count": 0,
      "outputs": []
    },
    {
      "cell_type": "code",
      "metadata": {
        "id": "zYyBXyYLGaQd",
        "colab_type": "code",
        "colab": {
          "base_uri": "https://localhost:8080/",
          "height": 34
        },
        "outputId": "d17f79f2-12c3-44ad-e5d5-357300b7e00a"
      },
      "source": [
        "loss, accuracy, f1_score, precision, recall= model.evaluate(x_test, y_test, batch_size=batch_size, verbose=0)\n",
        "print(f'Test loss:{loss}, accuracy:{accuracy}, F-1 score:{f1_score}, Precision:{precision}, recall:{recall}')"
      ],
      "execution_count": 23,
      "outputs": [
        {
          "output_type": "stream",
          "text": [
            "Test loss:0.6748847924868265, accuracy:0.7883333333333333, F-1 score:0.7067499403953552, Precision:0.70675, recall:0.70675\n"
          ],
          "name": "stdout"
        }
      ]
    },
    {
      "cell_type": "markdown",
      "metadata": {
        "id": "L1LSZOPiaGky",
        "colab_type": "text"
      },
      "source": [
        "HYBRID CNN then LSTM"
      ]
    },
    {
      "cell_type": "code",
      "metadata": {
        "id": "E8fowPgWb4iW",
        "colab_type": "code",
        "colab": {
          "base_uri": "https://localhost:8080/",
          "height": 642
        },
        "outputId": "958d2787-a188-45bb-e967-4f251dcf4e1b"
      },
      "source": [
        "from keras import Sequential\n",
        "from keras.layers import LSTM\n",
        "import keras\n",
        "from keras.models import Sequential\n",
        "from keras.layers import Dense, Dropout, Flatten\n",
        "from keras.layers import Conv1D, MaxPooling1D\n",
        "from keras import backend as K\n",
        "import matplotlib.pyplot as plt\n",
        "import numpy\n",
        "\n",
        "\n",
        "model = Sequential()\n",
        "model.add(Conv1D(filters=64, kernel_size=3,\n",
        "                 activation='relu',\n",
        "                 input_shape=(1000,1)))\n",
        "model.add(Conv1D(128, kernel_size=5, activation='relu'))\n",
        "model.add(MaxPooling1D(pool_size=1))\n",
        "model.add(LSTM(units=64, return_sequences=True, name='output'))\n",
        "model.add(Flatten())\n",
        "model.add(Dense(64, activation='relu'))\n",
        "model.add(Dropout(0.5))\n",
        "model.add(Dense(num_classes))\n",
        "model.add(Activation('softmax'))\n",
        "x_train = x_train.reshape(x_train.shape[0], x_train.shape[1], 1)\n",
        "x_test = x_test.reshape(x_test.shape[0], x_test.shape[1], 1)\n",
        "model.compile(loss=keras.losses.categorical_crossentropy,\n",
        "              optimizer=keras.optimizers.Adam(lr=0.001),\n",
        "              metrics=['accuracy',f1_m,precision_m,recall_m])\n",
        "\n",
        "print(model.summary())\n",
        "print(x_train.shape)\n",
        "print(y_train.shape)\n",
        "model.fit(x_train, y_train,batch_size=128, epochs=3, verbose=1)"
      ],
      "execution_count": 16,
      "outputs": [
        {
          "output_type": "stream",
          "text": [
            "Model: \"sequential_6\"\n",
            "_________________________________________________________________\n",
            "Layer (type)                 Output Shape              Param #   \n",
            "=================================================================\n",
            "conv1d_3 (Conv1D)            (None, 998, 64)           256       \n",
            "_________________________________________________________________\n",
            "conv1d_4 (Conv1D)            (None, 994, 128)          41088     \n",
            "_________________________________________________________________\n",
            "max_pooling1d_1 (MaxPooling1 (None, 994, 128)          0         \n",
            "_________________________________________________________________\n",
            "output (LSTM)                (None, 994, 64)           49408     \n",
            "_________________________________________________________________\n",
            "flatten_5 (Flatten)          (None, 63616)             0         \n",
            "_________________________________________________________________\n",
            "dense_7 (Dense)              (None, 64)                4071488   \n",
            "_________________________________________________________________\n",
            "dropout_6 (Dropout)          (None, 64)                0         \n",
            "_________________________________________________________________\n",
            "dense_8 (Dense)              (None, 20)                1300      \n",
            "_________________________________________________________________\n",
            "activation_11 (Activation)   (None, 20)                0         \n",
            "=================================================================\n",
            "Total params: 4,163,540\n",
            "Trainable params: 4,163,540\n",
            "Non-trainable params: 0\n",
            "_________________________________________________________________\n",
            "None\n",
            "(28000, 1000, 1)\n",
            "(28000, 20)\n",
            "Epoch 1/3\n",
            "28000/28000 [==============================] - 400s 14ms/step - loss: 1.3958 - acc: 0.5840 - f1_m: 0.4440 - precision_m: 0.4440 - recall_m: 0.4440\n",
            "Epoch 2/3\n",
            "28000/28000 [==============================] - 399s 14ms/step - loss: 0.7981 - acc: 0.7568 - f1_m: 0.6753 - precision_m: 0.6753 - recall_m: 0.6753\n",
            "Epoch 3/3\n",
            "28000/28000 [==============================] - 394s 14ms/step - loss: 0.6920 - acc: 0.7832 - f1_m: 0.7113 - precision_m: 0.7113 - recall_m: 0.7113\n"
          ],
          "name": "stdout"
        },
        {
          "output_type": "execute_result",
          "data": {
            "text/plain": [
              "<keras.callbacks.History at 0x7f1b5d0429e8>"
            ]
          },
          "metadata": {
            "tags": []
          },
          "execution_count": 16
        }
      ]
    },
    {
      "cell_type": "code",
      "metadata": {
        "id": "653MblGMTwW1",
        "colab_type": "code",
        "colab": {}
      },
      "source": [
        "import keras \n",
        "model.save('hybrid.h5')\n",
        "model = keras.models.load_model('hybrid.h5', \n",
        "                   custom_objects = {'f1_m': f1_m,  'precision_m': precision_m, 'recall_m' : recall_m})"
      ],
      "execution_count": 0,
      "outputs": []
    },
    {
      "cell_type": "code",
      "metadata": {
        "id": "fhqZhUpnT9ze",
        "colab_type": "code",
        "colab": {
          "base_uri": "https://localhost:8080/",
          "height": 34
        },
        "outputId": "5516ab3f-c1c2-4d09-bded-b969902af6ba"
      },
      "source": [
        "loss, accuracy, f1_score, precision, recall= model.evaluate(x_test, y_test, batch_size=batch_size, verbose=0)\n",
        "print(f'Test loss:{loss}, accuracy:{accuracy}, F-1 score:{f1_score}, Precision:{precision}, recall:{recall}')"
      ],
      "execution_count": 18,
      "outputs": [
        {
          "output_type": "stream",
          "text": [
            "Test loss:0.6629065762758255, accuracy:0.7871666666666667, F-1 score:0.7289166070620219, Precision:0.7289166666666667, recall:0.7289166666666667\n"
          ],
          "name": "stdout"
        }
      ]
    },
    {
      "cell_type": "markdown",
      "metadata": {
        "id": "WLd8girF_9VZ",
        "colab_type": "text"
      },
      "source": [
        "LSTM"
      ]
    },
    {
      "cell_type": "code",
      "metadata": {
        "id": "UyJ2knUN3qHQ",
        "colab_type": "code",
        "colab": {
          "base_uri": "https://localhost:8080/",
          "height": 574
        },
        "outputId": "0a1c1c49-c546-4b85-d3f6-59e2d3713a21"
      },
      "source": [
        "from keras import Sequential\n",
        "from keras.layers import LSTM\n",
        "import keras\n",
        "from keras.models import Sequential\n",
        "from keras.layers import Dense, Dropout, Flatten\n",
        "from keras.layers import Conv1D, MaxPooling1D\n",
        "from keras import backend as K\n",
        "import matplotlib.pyplot as plt\n",
        "import numpy\n",
        "\n",
        "\n",
        "model = Sequential()\n",
        "model.add(LSTM(units=128, input_shape = (1000,1), return_sequences = True))\n",
        "model.add(LSTM(units=64, return_sequences=True, name='output'))\n",
        "model.add(Flatten())\n",
        "model.add(Activation('relu'))\n",
        "model.add(Dropout(0.5))\n",
        "model.add(Dense(num_classes))\n",
        "model.add(Activation('softmax'))\n",
        "x_train = x_train.reshape(x_train.shape[0], x_train.shape[1], 1)\n",
        "x_test = x_test.reshape(x_test.shape[0], x_test.shape[1], 1)\n",
        "model.compile(loss=keras.losses.categorical_crossentropy,\n",
        "              optimizer=keras.optimizers.Adam(lr=0.001),\n",
        "              metrics=['accuracy',f1_m,precision_m,recall_m])\n",
        "\n",
        "print(model.summary())\n",
        "print(x_train.shape)\n",
        "print(y_train.shape)\n",
        "model.fit(x_train, y_train,batch_size=128, epochs=3, verbose=1)"
      ],
      "execution_count": 12,
      "outputs": [
        {
          "output_type": "stream",
          "text": [
            "Model: \"sequential_4\"\n",
            "_________________________________________________________________\n",
            "Layer (type)                 Output Shape              Param #   \n",
            "=================================================================\n",
            "lstm_2 (LSTM)                (None, 1000, 128)         66560     \n",
            "_________________________________________________________________\n",
            "output (LSTM)                (None, 1000, 64)          49408     \n",
            "_________________________________________________________________\n",
            "flatten_3 (Flatten)          (None, 64000)             0         \n",
            "_________________________________________________________________\n",
            "activation_7 (Activation)    (None, 64000)             0         \n",
            "_________________________________________________________________\n",
            "dropout_4 (Dropout)          (None, 64000)             0         \n",
            "_________________________________________________________________\n",
            "dense_5 (Dense)              (None, 20)                1280020   \n",
            "_________________________________________________________________\n",
            "activation_8 (Activation)    (None, 20)                0         \n",
            "=================================================================\n",
            "Total params: 1,395,988\n",
            "Trainable params: 1,395,988\n",
            "Non-trainable params: 0\n",
            "_________________________________________________________________\n",
            "None\n",
            "(28000, 1000, 1)\n",
            "(28000, 20)\n",
            "Epoch 1/3\n",
            "28000/28000 [==============================] - 766s 27ms/step - loss: 1.6499 - acc: 0.5041 - f1_m: 0.3360 - precision_m: 0.3360 - recall_m: 0.3360\n",
            "Epoch 2/3\n",
            "28000/28000 [==============================] - 754s 27ms/step - loss: 0.9927 - acc: 0.6970 - f1_m: 0.5938 - precision_m: 0.5938 - recall_m: 0.5938\n",
            "Epoch 3/3\n",
            "28000/28000 [==============================] - 759s 27ms/step - loss: 0.8088 - acc: 0.7520 - f1_m: 0.6672 - precision_m: 0.6672 - recall_m: 0.6672\n"
          ],
          "name": "stdout"
        },
        {
          "output_type": "execute_result",
          "data": {
            "text/plain": [
              "<keras.callbacks.History at 0x7f1b9e3de710>"
            ]
          },
          "metadata": {
            "tags": []
          },
          "execution_count": 12
        }
      ]
    },
    {
      "cell_type": "code",
      "metadata": {
        "id": "HU9oLMkpKS2R",
        "colab_type": "code",
        "colab": {}
      },
      "source": [
        "import keras \n",
        "model.save('lstm.h5')\n",
        "model = keras.models.load_model('lstm.h5', \n",
        "                   custom_objects = {'f1_m': f1_m,  'precision_m': precision_m, 'recall_m' : recall_m})"
      ],
      "execution_count": 0,
      "outputs": []
    },
    {
      "cell_type": "code",
      "metadata": {
        "id": "yN0EQbosKYER",
        "colab_type": "code",
        "colab": {
          "base_uri": "https://localhost:8080/",
          "height": 34
        },
        "outputId": "8b8115be-ff17-4788-8db6-e2ebf7b5dda1"
      },
      "source": [
        "loss, accuracy, f1_score, precision, recall= model.evaluate(x_test, y_test, batch_size=batch_size, verbose=0)\n",
        "print(f'Test loss:{loss}, accuracy:{accuracy}, F-1 score:{f1_score}, Precision:{precision}, recall:{recall}')"
      ],
      "execution_count": 14,
      "outputs": [
        {
          "output_type": "stream",
          "text": [
            "Test loss:0.8402288181781769, accuracy:0.746, F-1 score:0.6621666070620219, Precision:0.6621666666666667, recall:0.6621666666666667\n"
          ],
          "name": "stdout"
        }
      ]
    }
  ]
}